{
 "cells": [
  {
   "cell_type": "markdown",
   "metadata": {},
   "source": [
    "# Demo copy"
   ]
  },
  {
   "cell_type": "code",
   "execution_count": 2,
   "metadata": {},
   "outputs": [
    {
     "ename": "SyntaxError",
     "evalue": "invalid syntax (<ipython-input-2-09ad1a1a29ff>, line 79)",
     "output_type": "error",
     "traceback": [
      "\u001b[1;36m  File \u001b[1;32m\"<ipython-input-2-09ad1a1a29ff>\"\u001b[1;36m, line \u001b[1;32m79\u001b[0m\n\u001b[1;33m    self.NEWcv_img = # TODO\u001b[0m\n\u001b[1;37m                           ^\u001b[0m\n\u001b[1;31mSyntaxError\u001b[0m\u001b[1;31m:\u001b[0m invalid syntax\n"
     ]
    }
   ],
   "source": [
    "from tkinter import filedialog\n",
    "import tkinter as tk\n",
    "import cv2\n",
    "import PIL.Image, PIL.ImageTk\n",
    "import numpy as np\n",
    "\n",
    "# global variables\n",
    "MARGIN = 10  # px\n",
    "MAXDIM = 530\n",
    "\n",
    "class App():\n",
    "    def __init__(self, window, window_title, image_path=\"lena.bmp\"):\n",
    "        self.window = window\n",
    "        self.window.title(window_title)\n",
    "        \n",
    "        # Load image using OpenCV\n",
    "        self.cv_img = cv2.cvtColor(cv2.imread(image_path), cv2.COLOR_BGR2RGB)\n",
    "        self.NEWcv_img = self.cv_img.copy()  # for recursive processing\n",
    "        self.height, self.width, num_channel = self.cv_img.shape\n",
    "        \n",
    "        # Create a Frame that can fit the images\n",
    "        self.frame1 = tk.Frame(self.window , width=100, height=100, bg='blue')  # size not important\n",
    "        self.frame1.pack(fill=tk.BOTH)\n",
    "        \n",
    "        # Create two Canvases for image display\n",
    "        self.canvas0 = tk.Canvas(self.frame1, width=MAXDIM, height=MAXDIM+(3*MARGIN), bg='yellow')  # original\n",
    "        self.canvas0.pack(side=tk.LEFT)\n",
    "        self.canvas1 = tk.Canvas(self.frame1, width=MAXDIM, height=MAXDIM+(3*MARGIN), bg='orange')  # original\n",
    "        self.canvas1.pack()\n",
    "        \n",
    "        # PhotoImage\n",
    "        self.photoOG = PIL.ImageTk.PhotoImage(image=PIL.Image.fromarray(self.cv_img))  # original\n",
    "        self.photo = PIL.ImageTk.PhotoImage(image=PIL.Image.fromarray(self.cv_img))  # modified\n",
    "        \n",
    "        # Add PhotoImage to Canvas\n",
    "        self.canvas0.create_image(MAXDIM//2, MAXDIM//2, image=self.photoOG)\n",
    "        self.canvas1.create_image(MAXDIM//2, MAXDIM//2, image=self.photo)\n",
    "        \n",
    "        # Write caption for both images\n",
    "        self.canvas0.create_text(MAXDIM//2, MAXDIM+(MARGIN), text=\"Original Photo\", font=\"Tahoma 20\")\n",
    "        self.canvas1.create_text(MAXDIM//2, MAXDIM+(MARGIN), text=\"Modified Photo\", font=\"Tahoma 20\")\n",
    "        \n",
    "# ##############################################################################################\n",
    "# ################################   PARAMETER TOOLBAR   #######################################\n",
    "# ##############################################################################################\n",
    "\n",
    "        # Create a Frame that can fit the images\n",
    "        self.frame2 = tk.Frame(self.window , width=100, height=100, bg='green')\n",
    "        self.frame2.pack(side=tk.BOTTOM, fill=tk.BOTH)\n",
    "        \n",
    "        # Create Label for GUI description text\n",
    "        self.label = tk.Label(self.frame2, text=\"How to use GUI\", font=\"Times 25 bold\")\n",
    "        self.label.pack(anchor=tk.W)\n",
    "        self.label = tk.Label(self.frame2, text=\"This is a GUI DEMO. I hope you find this helpful!\", font=\"Times 16\")\n",
    "        self.label.pack(anchor=tk.W)\n",
    "        \n",
    "        # Create a Button for negating the image\n",
    "        self.button_neg = tk.Button(self.frame2, text=\"Negative\", command=self.negative)\n",
    "        self.button_neg.pack()\n",
    "        \n",
    "        # Create a Scale that lets users blur the image\n",
    "        self.scale_blur = tk.Scale(self.frame2, orient=tk.HORIZONTAL, command=self.blur)\n",
    "        self.scale_blur.pack()\n",
    "        \n",
    "        self.window.mainloop()\n",
    "        \n",
    "##############################################################################################\n",
    "#################################  CALLBACK FUNCTIONS  #######################################\n",
    "##############################################################################################\n",
    "    # Callback for negative button\n",
    "    def negative(self):\n",
    "        self.NEWcv_img = 255 - self.NEWcv_img\n",
    "        self.photo = PIL.ImageTk.PhotoImage(image=PIL.Image.fromarray(self.NEWcv_img))\n",
    "        self.canvas1.create_image(MAXDIM//2, MAXDIM//2, image=self.photo)\n",
    "    \n",
    "    # Callback for blur scale\n",
    "    def blur(self, k):\n",
    "        k = self.scale_blur.get()  # value of slider\n",
    "        self.NEWcv_img = # TODO\n",
    "        self.photo = PIL.ImageTk.PhotoImage(image=PIL.Image.fromarray(self.NEWcv_img))\n",
    "        self.canvas1.create_image(MAXDIM//2, MAXDIM//2, image=self.photo)\n",
    "\n",
    "##############################################################################################\n",
    "# Create a window and pass it to the Application object\n",
    "App(tk.Tk(), \"Final Project, Template\")"
   ]
  },
  {
   "cell_type": "code",
   "execution_count": null,
   "metadata": {},
   "outputs": [],
   "source": []
  }
 ],
 "metadata": {
  "kernelspec": {
   "display_name": "Python 3",
   "language": "python",
   "name": "python3"
  },
  "language_info": {
   "codemirror_mode": {
    "name": "ipython",
    "version": 3
   },
   "file_extension": ".py",
   "mimetype": "text/x-python",
   "name": "python",
   "nbconvert_exporter": "python",
   "pygments_lexer": "ipython3",
   "version": "3.7.7"
  }
 },
 "nbformat": 4,
 "nbformat_minor": 2
}
