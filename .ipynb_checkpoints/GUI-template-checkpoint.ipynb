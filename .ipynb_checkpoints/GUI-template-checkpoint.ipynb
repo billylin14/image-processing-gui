{
 "cells": [
  {
   "cell_type": "markdown",
   "metadata": {},
   "source": [
    "# Template"
   ]
  },
  {
   "cell_type": "code",
   "execution_count": 1,
   "metadata": {},
   "outputs": [
    {
     "ename": "SyntaxError",
     "evalue": "invalid syntax (<ipython-input-1-d54c88a5defe>, line 85)",
     "output_type": "error",
     "traceback": [
      "\u001b[1;36m  File \u001b[1;32m\"<ipython-input-1-d54c88a5defe>\"\u001b[1;36m, line \u001b[1;32m85\u001b[0m\n\u001b[1;33m    self.NEWcv_img = cv2.blur(---)\u001b[0m\n\u001b[1;37m                                 ^\u001b[0m\n\u001b[1;31mSyntaxError\u001b[0m\u001b[1;31m:\u001b[0m invalid syntax\n"
     ]
    }
   ],
   "source": [
    "from tkinter import filedialog\n",
    "import tkinter as tk\n",
    "import cv2\n",
    "import PIL.Image, PIL.ImageTk\n",
    "import numpy as np\n",
    "\n",
    "# global variables\n",
    "MARGIN = 10  # px\n",
    "MAXDIM = 530\n",
    "\n",
    "class App():\n",
    "    def __init__(self, window, window_title, image_path=\"lena.bmp\"):\n",
    "        \n",
    "        # Load an image using OpenCV\n",
    "        \n",
    "        # Get the image dimensions (OpenCV stores image data as NumPy ndarray)\n",
    "        \n",
    "        ''' Image Display Related Code'''\n",
    "        # Create a FRAME that can fit the images, BLUE\n",
    "        self.frame1 = tk.Frame(...)\n",
    "        self.frame1.pack()\n",
    "        \n",
    "        # Create a CANVAS for original image, YELLOW\n",
    "        tk.Canvas(...)\n",
    "        self.NAME.pack()\n",
    "        \n",
    "        # Create a CANVAS for changing image, ORANGE\n",
    "        tk.Canvas(...)\n",
    "        self.NAME.pack()\n",
    "        \n",
    "        # Use PIL (Pillow) to convert the NumPy ndarray to a PhotoImage\n",
    "        self.photoOG = PIL.ImageTk.PhotoImage(image=PIL.Image.fromarray(self.cv_img))\n",
    "        self.photo = PIL.ImageTk.PhotoImage(image=PIL.Image.fromarray(self.cv_img))\n",
    "        \n",
    "        # Add a PhotoImage to the Canvas (original and modified)\n",
    "        self.NAME.create_image(...)  # NAME = name of desired parent Canvas\n",
    "        self.NAME.create_image(...)\n",
    "        \n",
    "        # Write labels for both images, font/size can be changed\n",
    "        self.NAME.create_text(...)\n",
    "        self.NAME.create_text(...)\n",
    "        \n",
    "# ##############################################################################################\n",
    "# ################################   PARAMETER TOOLBAR   #######################################\n",
    "# ##############################################################################################\n",
    "\n",
    "        # Create a FRAME that can fit the features\n",
    "        self.frame2 = tk.Frame(...)\n",
    "        self.frame2.pack()\n",
    "        \n",
    "        # GUI Decription Text\n",
    "        self.label_og = tk.Label(...)\n",
    "        self.label_og.pack()\n",
    "        self.label_og = tk.Label(...)  # you can reuse names after placing/packing it (if you want)  \n",
    "        self.label_og.pack()\n",
    "        \n",
    "        # Create a CANVAS for buttons\n",
    "        self.canvas_but = tk.Canvas(self.frame2)\n",
    "        self.canvas_but.pack()\n",
    "        \n",
    "        # Create a BUTTON for ...\n",
    "        tk.Button(...)\n",
    "        self.NAME.pack()\n",
    "        \n",
    "        # Create a SCALE that lets the user blur the image\n",
    "        tk.Scale(...)\n",
    "        self.NAME.pack()\n",
    "        \n",
    "        self.window.mainloop()\n",
    "\n",
    "##############################################################################################\n",
    "#################################  CALLBACK FUNCTIONS  #######################################\n",
    "##############################################################################################\n",
    "    '''#################################  NEGATIVE  ###############################'''\n",
    "    # Callback for negate button\n",
    "    def negate(self):        \n",
    "        self.NEWcv_img = 255 - self.NEWcv_img\n",
    "        self.photo = PIL.ImageTk.PhotoImage(image = PIL.Image.fromarray(self.NEWcv_img))\n",
    "        self.canvas1.create_image(MAXDIM//2, MAXDIM//2, image=self.photo, anchor=tk.CENTER)\n",
    "        \n",
    "    '''#################################  BLUR  ###############################'''\n",
    "    # Callback for the \"Blur\" Scale \n",
    "    def blur_image(self, k):\n",
    "        k = self.scl_blur.get()  # get value from the corresponding scale\n",
    "        self.NEWcv_img = cv2.blur(---)\n",
    "        self.photo = PIL.ImageTk.PhotoImage(image = PIL.Image.fromarray(self.NEWcv_img))\n",
    "        self.canvas1.create_image(MAXDIM//2, MAXDIM//2, image=self.photo, anchor=tk.CENTER)\n",
    "        \n",
    "    # define other callback functions here\n",
    "\n",
    "##############################################################################################\n",
    "# Create a window and pass it to the Application object\n",
    "App(tk.Tk(), \"Final Project, Template\")"
   ]
  },
  {
   "cell_type": "code",
   "execution_count": null,
   "metadata": {},
   "outputs": [],
   "source": []
  }
 ],
 "metadata": {
  "kernelspec": {
   "display_name": "Python 3",
   "language": "python",
   "name": "python3"
  },
  "language_info": {
   "codemirror_mode": {
    "name": "ipython",
    "version": 3
   },
   "file_extension": ".py",
   "mimetype": "text/x-python",
   "name": "python",
   "nbconvert_exporter": "python",
   "pygments_lexer": "ipython3",
   "version": "3.7.7"
  }
 },
 "nbformat": 4,
 "nbformat_minor": 2
}
